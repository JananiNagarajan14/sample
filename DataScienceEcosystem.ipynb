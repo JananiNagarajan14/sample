{
 "cells": [
  {
   "cell_type": "markdown",
   "id": "10578042",
   "metadata": {},
   "source": [
    "# Data Science Tools and Ecosystems"
   ]
  },
  {
   "cell_type": "markdown",
   "id": "d8b42bf2",
   "metadata": {},
   "source": [
    "In this notebook, Data Science Tools and Ecosystem are summarized."
   ]
  },
  {
   "cell_type": "markdown",
   "id": "72962a3a",
   "metadata": {},
   "source": [
    "**Objectives**\n",
    "Summary = {\"dslanguages\",\"dslibraries\", \"dstools\"}"
   ]
  },
  {
   "cell_type": "markdown",
   "id": "93a994ec",
   "metadata": {},
   "source": [
    "Some of the popular languages that Data Scientists use are:\n",
    "languagelist = [\"R\", \"Python\", \"SQL\", \"JAVA\"]"
   ]
  },
  {
   "cell_type": "markdown",
   "id": "7a072112",
   "metadata": {},
   "source": [
    "Some of the commonly used libraries used by Data Scientists include:\n",
    "dslibraries = [\"ggplot\", \"caret\", \"pandas\", \"Numpy\"]"
   ]
  },
  {
   "cell_type": "markdown",
   "id": "2e19f77b",
   "metadata": {},
   "source": [
    "Data Science tools\n",
    "Python\n",
    "R\n",
    "Numpy"
   ]
  },
  {
   "cell_type": "markdown",
   "id": "de2feb02",
   "metadata": {},
   "source": [
    "### Below are a few examples of evaluating arithmetic expressions in Python\n",
    "result_addition = 5+3\n",
    "result_subtraction = 5-3"
   ]
  },
  {
   "cell_type": "code",
   "execution_count": 1,
   "id": "710a6a0f",
   "metadata": {},
   "outputs": [
    {
     "name": "stdout",
     "output_type": "stream",
     "text": [
      "17\n"
     ]
    }
   ],
   "source": [
    "#This a simple arithmetic expression to mutiply then add integers\n",
    "result = (3*4)+5\n",
    "print (result)"
   ]
  },
  {
   "cell_type": "code",
   "execution_count": 2,
   "id": "dee34667",
   "metadata": {},
   "outputs": [
    {
     "name": "stdout",
     "output_type": "stream",
     "text": [
      "3.3333333333333335\n"
     ]
    }
   ],
   "source": [
    "#This will convert 200 minutes to hours by diving by 60\n",
    "minutes = 200\n",
    "hours = minutes/60\n",
    "print (hours)"
   ]
  },
  {
   "cell_type": "markdown",
   "id": "029556ba",
   "metadata": {},
   "source": [
    "## Author##\n",
    "Janani N"
   ]
  }
 ],
 "metadata": {
  "kernelspec": {
   "display_name": "Python 3 (ipykernel)",
   "language": "python",
   "name": "python3"
  },
  "language_info": {
   "codemirror_mode": {
    "name": "ipython",
    "version": 3
   },
   "file_extension": ".py",
   "mimetype": "text/x-python",
   "name": "python",
   "nbconvert_exporter": "python",
   "pygments_lexer": "ipython3",
   "version": "3.10.9"
  }
 },
 "nbformat": 4,
 "nbformat_minor": 5
}
